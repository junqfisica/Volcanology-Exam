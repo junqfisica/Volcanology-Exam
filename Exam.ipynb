{
 "cells": [
  {
   "cell_type": "markdown",
   "metadata": {},
   "source": [
    "<div style=\"color: red\">\n",
    "    <h1>Important!!</h1> \n",
    "    <h3>Save your progression constantly. The server may stop the connection and unsaved changes will be lost.\n",
    "        </h3>\n",
    "</div>"
   ]
  },
  {
   "cell_type": "markdown",
   "metadata": {},
   "source": [
    "## Question 1: \n",
    "\n",
    "##### Points: 8P\n",
    "\n",
    "1. (6P): Write a function that uses input from the user and gives the whole telephone number (331 977 + ext) as an output if Peter, Tim or Sandra are asked for. In all other cases the number of the secretary is returned (ext = 001). \n",
    "\n",
    "\n",
    "2. (1P): Within that function create a dictionary that contains the telephone number extensions of Peter (421), Tim (222) and Sandra (101).\n",
    "\n",
    "\n",
    "2. (1P): Take care of capitalisation when asking the user for an input."
   ]
  },
  {
   "cell_type": "code",
   "execution_count": null,
   "metadata": {},
   "outputs": [],
   "source": []
  },
  {
   "cell_type": "markdown",
   "metadata": {},
   "source": [
    "## Question 2: \n",
    "\n",
    "##### Points: 6P \n",
    "\n",
    "1. (3P): Write a function A (with docstring, that explains the variables) that takes a NumPy array (x) and two float parameters a and b then returns: $f(x) = ax^3 + b$.\n",
    "\n",
    "    \n",
    "2. (1P): Write a second function B (with docstring, that explains the variables) that takes a NumPy array (x) and two float paramters a and b then returns: f(x) = -$ax^3 - b$.\n",
    "\n",
    "\n",
    "3. (2P): Plot the result of the two functions with matplotlib. Color A with a dotted red line and B with a dashed blue line. Label the x and y axis and add a legend in the upper left corner to label the curves A and B.   "
   ]
  },
  {
   "cell_type": "code",
   "execution_count": null,
   "metadata": {},
   "outputs": [],
   "source": []
  },
  {
   "cell_type": "markdown",
   "metadata": {},
   "source": [
    "## Question 3: \n",
    "\n",
    "##### Points: 13P\n",
    "\n",
    "    Birthdays of Peter, James, Anne and Louise:\n",
    "\n",
    "| Names| Year | Month | Day | Hour | Minute | Second |\n",
    "|  :-: | :-:  | :-:   |:-:  |:-:   |:-:     | :-:    |\n",
    "| Peter| 1996 | 10    | 26  | 00   | 58     | 52     |\n",
    "| James| 1995 | 09    | 25  | 19   | 50     | 07     |\n",
    "| Anne | 1995 | 06    | 23  | 20   | 33     | 09     |  \n",
    "|Louise| 1994 | 12    | 23  | 14   | 59     | 00     | \n",
    "\n",
    "\n",
    "1. (2P): Create a list of obspy.UTCDateTime objects from the birthdays of Peter, James, Anne and Louise:\n",
    "\n",
    "\n",
    "2. (3P): Calculate and print the number of days between their birthdays (hint: use obspy.UTCDateTime). Note the output contains 6 values!\n",
    "\n",
    "\n",
    "3. (3P): Calculate and print their age on the screen.\n",
    "\n",
    "\n",
    "4. (2P): Write a code that determines who is the oldest one. Print a message that states who the oldest one is (Hint: use numpy.argmax).\n",
    "\n",
    "\n",
    "5. (3P): Write a code that determines whose birthday is coming up next. Print a message that states whose birthday is the next one coming up. "
   ]
  },
  {
   "cell_type": "code",
   "execution_count": null,
   "metadata": {},
   "outputs": [],
   "source": []
  },
  {
   "cell_type": "markdown",
   "metadata": {},
   "source": [
    "### Question 4: \n",
    "\n",
    "##### Points: 6P\n",
    "\n",
    "1. (2P): Create a numpy.ndarray with zeros and modify entries at a regular spacing in order to simulate a comb function.\n",
    "    \n",
    "\n",
    "2. (2P): Initialize a obspy.Trace object with your data array. Change the sampling rate to 4 Hz.\n",
    "\n",
    "\n",
    "3. (2P): Plot a preview plot of a seismogram and spectrogram of the trace. "
   ]
  },
  {
   "cell_type": "code",
   "execution_count": null,
   "metadata": {},
   "outputs": [],
   "source": []
  }
 ],
 "metadata": {
  "kernelspec": {
   "display_name": "Python 3",
   "language": "python",
   "name": "python3"
  },
  "language_info": {
   "codemirror_mode": {
    "name": "ipython",
    "version": 3
   },
   "file_extension": ".py",
   "mimetype": "text/x-python",
   "name": "python",
   "nbconvert_exporter": "python",
   "pygments_lexer": "ipython3",
   "version": "3.6.7"
  }
 },
 "nbformat": 4,
 "nbformat_minor": 2
}
