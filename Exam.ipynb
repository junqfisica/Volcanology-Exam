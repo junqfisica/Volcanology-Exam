{
 "cells": [
  {
   "cell_type": "markdown",
   "metadata": {},
   "source": [
    "<div style=\"color: red\">\n",
    "    <h1>Important!!</h1> \n",
    "    <h3>Save your progression constantly. The server may stop the connection and unsaved changes will be lost.\n",
    "        </h3>\n",
    "</div>"
   ]
  },
  {
   "cell_type": "markdown",
   "metadata": {},
   "source": [
    " ### Fill your name below: "
   ]
  },
  {
   "cell_type": "markdown",
   "metadata": {},
   "source": []
  },
  {
   "cell_type": "markdown",
   "metadata": {},
   "source": [
    "## Question 1: \n",
    "\n",
    "##### Points: 8P\n",
    "\n",
    "1. (6P): I own 10 geophones, 20 seismometers, and 3 tiltmeters. Write a function that asks the user for an instrument type. The output of this function should be the number of available instruments of the given type, either geophones, seismometers or tiltmeters. In all other cases, the user is informed that: “The requested \"<span style=\"color: red\">instruments</span>\" is not available.” Make sure to replace the “<span style=\"color: red\">instruments</span>” with the user input. \n",
    "\n",
    "\n",
    "2. (1P): Within that function create a dictionary that contains the instrument types and their amount.\n",
    "\n",
    "\n",
    "2. (1P): Take care of upper/lower cases when asking the user for an input."
   ]
  },
  {
   "cell_type": "code",
   "execution_count": null,
   "metadata": {},
   "outputs": [],
   "source": []
  },
  {
   "cell_type": "markdown",
   "metadata": {},
   "source": [
    "## Question 2: \n",
    "\n",
    "##### Points: 6P \n",
    "\n",
    "1. (3P): Write a function A (with docstring, that explains the variables) that takes a NumPy array (x) and a float parameter b then returns: $f(x) = \\sqrt{x} + b$.\n",
    "\n",
    "    \n",
    "2. (1P): Write a second function B (with docstring, that explains the variables) that takes a NumPy array (x) and a float paramter b then returns: f(x) = $-\\sqrt{x} - b$.\n",
    "\n",
    "\n",
    "3. (2P): Plot the result of the two functions with matplotlib. Plot A with a red line of linewidth 4 and B with stars. Label the x and y axis and add a legend in the upper left corner to label the curves A and B. "
   ]
  },
  {
   "cell_type": "code",
   "execution_count": null,
   "metadata": {},
   "outputs": [],
   "source": []
  },
  {
   "cell_type": "markdown",
   "metadata": {},
   "source": [
    "## Question 3: \n",
    "\n",
    "##### Points: 14P\n",
    "\n",
    "    Last lava fountains eruptions of Etna:\n",
    "    \n",
    "| Year | Month | Day | Hour | Minute | Second |\n",
    "| :-:  | :-:   |:-:  |:-:   |:-:     | :-:    |\n",
    "| 2019 | 07    | 10  | 04   | 06     | 17     |\n",
    "| 2019 | 07    | 10  | 11   | 11     | 08     |\n",
    "| 2019 | 07    | 10  | 07   | 34     | 52     |  \n",
    "| 2019 | 07    | 10  | 14   | 50     | 56     | \n",
    "\n",
    "\n",
    "1. (2P): Create a list of obspy.UTCDateTime objects that contains the last lava fountains eruption of Etna:\n",
    "\n",
    "\n",
    "2. (3P): Calculate the number of minutes between the eruptions (hint: use obspy.UTCDateTime). Note that the list is not sorted yet.\n",
    "\n",
    "\n",
    "3. (3P): Calculate and print the time that has passed until now since each fountains occurred.\n",
    "\n",
    "\n",
    "4. (3P): Write a code that calculates the median and standard deviation of the times between the fountains. Print a message that states the median time (Hint: use numpy).\n",
    "\n",
    "\n",
    "5. (3P): Calculate when the fifth fountain would have happened if the sequence had one more fountain. Print a message that states this."
   ]
  },
  {
   "cell_type": "code",
   "execution_count": null,
   "metadata": {},
   "outputs": [],
   "source": []
  },
  {
   "cell_type": "markdown",
   "metadata": {},
   "source": [
    "### Question 4: \n",
    "\n",
    "##### Points: 6P\n",
    "\n",
    "\n",
    "1. (2P): Create a numpy.ndarray with zeros (at least length=100) and modify 25 entries in a row in order to simulate a box car function.\n",
    "    \n",
    "\n",
    "2. (2P): Initialize a obspy.Trace object with your data array. Change the station name to “STA”.\n",
    "\n",
    "\n",
    "3. (2P): Plot a preview plot of a seismogram and spectrogram of the trace. "
   ]
  },
  {
   "cell_type": "code",
   "execution_count": null,
   "metadata": {},
   "outputs": [],
   "source": []
  }
 ],
 "metadata": {
  "kernelspec": {
   "display_name": "Python 3",
   "language": "python",
   "name": "python3"
  },
  "language_info": {
   "codemirror_mode": {
    "name": "ipython",
    "version": 3
   },
   "file_extension": ".py",
   "mimetype": "text/x-python",
   "name": "python",
   "nbconvert_exporter": "python",
   "pygments_lexer": "ipython3",
   "version": "3.7.1"
  }
 },
 "nbformat": 4,
 "nbformat_minor": 2
}
